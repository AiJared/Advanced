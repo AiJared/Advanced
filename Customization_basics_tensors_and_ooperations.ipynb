{
  "nbformat": 4,
  "nbformat_minor": 0,
  "metadata": {
    "colab": {
      "provenance": [],
      "authorship_tag": "ABX9TyNYre8YqA2vTk9lrqMfd+sj",
      "include_colab_link": true
    },
    "kernelspec": {
      "name": "python3",
      "display_name": "Python 3"
    },
    "language_info": {
      "name": "python"
    }
  },
  "cells": [
    {
      "cell_type": "markdown",
      "metadata": {
        "id": "view-in-github",
        "colab_type": "text"
      },
      "source": [
        "<a href=\"https://colab.research.google.com/github/Kerriea-star/Advanced/blob/master/Customization_basics_tensors_and_ooperations.ipynb\" target=\"_parent\"><img src=\"https://colab.research.google.com/assets/colab-badge.svg\" alt=\"Open In Colab\"/></a>"
      ]
    },
    {
      "cell_type": "markdown",
      "source": [
        "**Import TensorFlow**\n",
        "\n",
        "As of TensorFlow 2, eager execution is turned on by default. Eager execution enables a more interactive frontend to TensorFlow."
      ],
      "metadata": {
        "id": "vBXGdas9IKkA"
      }
    },
    {
      "cell_type": "code",
      "execution_count": 1,
      "metadata": {
        "id": "4Yn2SE61G6jg"
      },
      "outputs": [],
      "source": [
        "import tensorflow as tf"
      ]
    },
    {
      "cell_type": "markdown",
      "source": [
        "**Tensors**\n",
        "\n",
        "A Tensor is a multi-dimensional array. Similar to Numpy ndarray objects, tf.Tensor objects have a data type and a shape. Additionally, tf.Tensor s can reside in accelerator memory (like GPU). TensorFlow offers a rich library of operations (for example, tf.math.add, tf.linalg.matmul and tf.linalg.inv) that consume and produce tf.Tensors. These operations automatically convert built-in Python types. For example:"
      ],
      "metadata": {
        "id": "rejhB1QyIpCT"
      }
    },
    {
      "cell_type": "code",
      "source": [
        "print(tf.math.add(1, 2))\n",
        "print(tf.math.add([1, 2], [3, 4]))\n",
        "print(tf.math.square(5))\n",
        "print(tf.math.reduce_sum([1, 2, 3]))\n",
        "\n",
        "# Operator overloading is also supported\n",
        "print(tf.math.square(2) + tf.math.square(3))"
      ],
      "metadata": {
        "colab": {
          "base_uri": "https://localhost:8080/"
        },
        "id": "tl0UTIeUIjCt",
        "outputId": "165159cb-9236-4ce3-d352-eaa7bfb61567"
      },
      "execution_count": 2,
      "outputs": [
        {
          "output_type": "stream",
          "name": "stdout",
          "text": [
            "tf.Tensor(3, shape=(), dtype=int32)\n",
            "tf.Tensor([4 6], shape=(2,), dtype=int32)\n",
            "tf.Tensor(25, shape=(), dtype=int32)\n",
            "tf.Tensor(6, shape=(), dtype=int32)\n",
            "tf.Tensor(13, shape=(), dtype=int32)\n"
          ]
        }
      ]
    },
    {
      "cell_type": "markdown",
      "source": [
        "Each tf.Tensor has a shape and a datatype:"
      ],
      "metadata": {
        "id": "2USEOQD1Kh4u"
      }
    },
    {
      "cell_type": "code",
      "source": [
        "x = tf.linalg.matmul([[1]], [[2, 3]])\n",
        "print(x)\n",
        "print(x.shape)\n",
        "print(x.dtype)"
      ],
      "metadata": {
        "colab": {
          "base_uri": "https://localhost:8080/"
        },
        "id": "or3lVk4pKZ-s",
        "outputId": "ea0bbb66-0b50-4f06-9dc7-394291819b03"
      },
      "execution_count": 3,
      "outputs": [
        {
          "output_type": "stream",
          "name": "stdout",
          "text": [
            "tf.Tensor([[2 3]], shape=(1, 2), dtype=int32)\n",
            "(1, 2)\n",
            "<dtype: 'int32'>\n"
          ]
        }
      ]
    },
    {
      "cell_type": "markdown",
      "source": [
        "The most obvious difference between Numpy arrays and tf.Tensors are:\n",
        "\n",
        "1.   Tensors can be backed by accelerator memory (like GPU, TPU)\n",
        "2.   Tensors are immutable\n",
        "\n",
        "**Numpy compatibility**\n",
        "\n",
        "Converting between a TensorFlow tf.Tensor and a Numpy ndarray is easy:\n",
        "\n",
        "*   TensorFlow operations automatically convert Numpy ndarrays to Ternsors\n",
        "*   Numpy operations automatically convert Tensors to Numpy ndarrays.\n",
        "\n",
        "\n",
        "Tensors are explicitly converted to Numpy ndarrays using their .numpy() method. These conversions are typically cheap since the array and tf.Tensor share the underlying memory representation, if possible. However, share the underlying representation isn't always possible since the tf.Tensor may be hosted in GPU memory while Numpy arrays are always backed by host memory, and conversion involves a copy from GPU to host memory.\n",
        "\n"
      ],
      "metadata": {
        "id": "QRQqAmnALSjm"
      }
    },
    {
      "cell_type": "code",
      "source": [
        "import numpy as np\n",
        "\n",
        "ndarray = np.ones([3, 3])\n",
        "\n",
        "print(\"TensorFlow operations convert numpy arrays to Tensors automatically\")\n",
        "tensor = tf.math.multiply(ndarray, 42)\n",
        "print(tensor)\n",
        "\n",
        "print(\"And Numpy operations convert tensors to numpy arrays automatically\")\n",
        "print(np.add(tensor, 1))\n",
        "\n",
        "print(\"The .numpy() method explicitly converts a Tensor to a numpy array\")\n",
        "print(tensor.numpy())"
      ],
      "metadata": {
        "colab": {
          "base_uri": "https://localhost:8080/"
        },
        "id": "t0B639gHKzka",
        "outputId": "fa9b1104-9262-48ea-b33f-1080808ed7d8"
      },
      "execution_count": 4,
      "outputs": [
        {
          "output_type": "stream",
          "name": "stdout",
          "text": [
            "TensorFlow operations convert numpy arrays to Tensors automatically\n",
            "tf.Tensor(\n",
            "[[42. 42. 42.]\n",
            " [42. 42. 42.]\n",
            " [42. 42. 42.]], shape=(3, 3), dtype=float64)\n",
            "And Numpy operations convert tensors to numpy arrays automatically\n",
            "[[43. 43. 43.]\n",
            " [43. 43. 43.]\n",
            " [43. 43. 43.]]\n",
            "The .numpy() method explicitly converts a Tensor to a numpy array\n",
            "[[42. 42. 42.]\n",
            " [42. 42. 42.]\n",
            " [42. 42. 42.]]\n"
          ]
        }
      ]
    },
    {
      "cell_type": "markdown",
      "source": [
        "**GPU acceleration**"
      ],
      "metadata": {
        "id": "sIrZ39wNOeTt"
      }
    },
    {
      "cell_type": "markdown",
      "source": [
        "Many TensorFlow operations are accelerated using the GPU for computation. Without any annotations, TensorFlow automatically decided whether to use the GPU or CPU for an operation-copying the tensor between CPU and GPU memory, if necessary. Tensors produced by an operation are typically backed by the memory of the devide on which the operation executed. For example:"
      ],
      "metadata": {
        "id": "9yy5BPYuOnCi"
      }
    },
    {
      "cell_type": "code",
      "source": [
        "x = tf.random.uniform([3, 3])\n",
        "\n",
        "print(\"Is there a GPU available: \"),\n",
        "print(tf.config.list_physical_devices(\"GPU\"))\n",
        "\n",
        "print(\"Is the Tensor on GPU #0: \"),\n",
        "print(x.device.endswith(\"GPU:0\"))"
      ],
      "metadata": {
        "colab": {
          "base_uri": "https://localhost:8080/"
        },
        "id": "7BYoixsUN27-",
        "outputId": "0dd1af8d-e377-429a-bcff-447f70e62a8e"
      },
      "execution_count": 6,
      "outputs": [
        {
          "output_type": "stream",
          "name": "stdout",
          "text": [
            "Is there a GPU available: \n",
            "[]\n",
            "Is the Tensor on GPU #0: \n",
            "False\n"
          ]
        }
      ]
    },
    {
      "cell_type": "code",
      "source": [],
      "metadata": {
        "id": "6l-Lr8zEPolk"
      },
      "execution_count": null,
      "outputs": []
    }
  ]
}