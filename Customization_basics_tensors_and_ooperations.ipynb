{
  "nbformat": 4,
  "nbformat_minor": 0,
  "metadata": {
    "colab": {
      "provenance": [],
      "authorship_tag": "ABX9TyNEMweU9dyV7itRB4juRRoX",
      "include_colab_link": true
    },
    "kernelspec": {
      "name": "python3",
      "display_name": "Python 3"
    },
    "language_info": {
      "name": "python"
    }
  },
  "cells": [
    {
      "cell_type": "markdown",
      "metadata": {
        "id": "view-in-github",
        "colab_type": "text"
      },
      "source": [
        "<a href=\"https://colab.research.google.com/github/Kerriea-star/Advanced/blob/master/Customization_basics_tensors_and_ooperations.ipynb\" target=\"_parent\"><img src=\"https://colab.research.google.com/assets/colab-badge.svg\" alt=\"Open In Colab\"/></a>"
      ]
    },
    {
      "cell_type": "markdown",
      "source": [
        "**Import TensorFlow**\n",
        "\n",
        "As of TensorFlow 2, eager execution is turned on by default. Eager execution enables a more interactive frontend to TensorFlow."
      ],
      "metadata": {
        "id": "vBXGdas9IKkA"
      }
    },
    {
      "cell_type": "code",
      "execution_count": 7,
      "metadata": {
        "id": "4Yn2SE61G6jg"
      },
      "outputs": [],
      "source": [
        "import tensorflow as tf"
      ]
    },
    {
      "cell_type": "markdown",
      "source": [
        "**Tensors**\n",
        "\n",
        "A Tensor is a multi-dimensional array. Similar to Numpy ndarray objects, tf.Tensor objects have a data type and a shape. Additionally, tf.Tensor s can reside in accelerator memory (like GPU). TensorFlow offers a rich library of operations (for example, tf.math.add, tf.linalg.matmul and tf.linalg.inv) that consume and produce tf.Tensors. These operations automatically convert built-in Python types. For example:"
      ],
      "metadata": {
        "id": "rejhB1QyIpCT"
      }
    },
    {
      "cell_type": "code",
      "source": [
        "print(tf.math.add(1, 2))\n",
        "print(tf.math.add([1, 2], [3, 4]))\n",
        "print(tf.math.square(5))\n",
        "print(tf.math.reduce_sum([1, 2, 3]))\n",
        "\n",
        "# Operator overloading is also supported\n",
        "print(tf.math.square(2) + tf.math.square(3))"
      ],
      "metadata": {
        "colab": {
          "base_uri": "https://localhost:8080/"
        },
        "id": "tl0UTIeUIjCt",
        "outputId": "ab3a2566-2678-4fd8-9b53-c2bbdba64287"
      },
      "execution_count": 8,
      "outputs": [
        {
          "output_type": "stream",
          "name": "stdout",
          "text": [
            "tf.Tensor(3, shape=(), dtype=int32)\n",
            "tf.Tensor([4 6], shape=(2,), dtype=int32)\n",
            "tf.Tensor(25, shape=(), dtype=int32)\n",
            "tf.Tensor(6, shape=(), dtype=int32)\n",
            "tf.Tensor(13, shape=(), dtype=int32)\n"
          ]
        }
      ]
    },
    {
      "cell_type": "markdown",
      "source": [
        "Each tf.Tensor has a shape and a datatype:"
      ],
      "metadata": {
        "id": "2USEOQD1Kh4u"
      }
    },
    {
      "cell_type": "code",
      "source": [
        "x = tf.linalg.matmul([[1]], [[2, 3]])\n",
        "print(x)\n",
        "print(x.shape)\n",
        "print(x.dtype)"
      ],
      "metadata": {
        "colab": {
          "base_uri": "https://localhost:8080/"
        },
        "id": "or3lVk4pKZ-s",
        "outputId": "b15f45a5-824d-4fa3-8dce-5b5b3c46c4cd"
      },
      "execution_count": 9,
      "outputs": [
        {
          "output_type": "stream",
          "name": "stdout",
          "text": [
            "tf.Tensor([[2 3]], shape=(1, 2), dtype=int32)\n",
            "(1, 2)\n",
            "<dtype: 'int32'>\n"
          ]
        }
      ]
    },
    {
      "cell_type": "markdown",
      "source": [
        "The most obvious difference between Numpy arrays and tf.Tensors are:\n",
        "\n",
        "1.   Tensors can be backed by accelerator memory (like GPU, TPU)\n",
        "2.   Tensors are immutable\n",
        "\n",
        "**Numpy compatibility**\n",
        "\n",
        "Converting between a TensorFlow tf.Tensor and a Numpy ndarray is easy:\n",
        "\n",
        "*   TensorFlow operations automatically convert Numpy ndarrays to Ternsors\n",
        "*   Numpy operations automatically convert Tensors to Numpy ndarrays.\n",
        "\n",
        "\n",
        "Tensors are explicitly converted to Numpy ndarrays using their .numpy() method. These conversions are typically cheap since the array and tf.Tensor share the underlying memory representation, if possible. However, share the underlying representation isn't always possible since the tf.Tensor may be hosted in GPU memory while Numpy arrays are always backed by host memory, and conversion involves a copy from GPU to host memory.\n",
        "\n"
      ],
      "metadata": {
        "id": "QRQqAmnALSjm"
      }
    },
    {
      "cell_type": "code",
      "source": [
        "import numpy as np\n",
        "\n",
        "ndarray = np.ones([3, 3])\n",
        "\n",
        "print(\"TensorFlow operations convert numpy arrays to Tensors automatically\")\n",
        "tensor = tf.math.multiply(ndarray, 42)\n",
        "print(tensor)\n",
        "\n",
        "print(\"And Numpy operations convert tensors to numpy arrays automatically\")\n",
        "print(np.add(tensor, 1))\n",
        "\n",
        "print(\"The .numpy() method explicitly converts a Tensor to a numpy array\")\n",
        "print(tensor.numpy())"
      ],
      "metadata": {
        "colab": {
          "base_uri": "https://localhost:8080/"
        },
        "id": "t0B639gHKzka",
        "outputId": "5089810d-80c4-4037-d012-46e7a2b52e8b"
      },
      "execution_count": 10,
      "outputs": [
        {
          "output_type": "stream",
          "name": "stdout",
          "text": [
            "TensorFlow operations convert numpy arrays to Tensors automatically\n",
            "tf.Tensor(\n",
            "[[42. 42. 42.]\n",
            " [42. 42. 42.]\n",
            " [42. 42. 42.]], shape=(3, 3), dtype=float64)\n",
            "And Numpy operations convert tensors to numpy arrays automatically\n",
            "[[43. 43. 43.]\n",
            " [43. 43. 43.]\n",
            " [43. 43. 43.]]\n",
            "The .numpy() method explicitly converts a Tensor to a numpy array\n",
            "[[42. 42. 42.]\n",
            " [42. 42. 42.]\n",
            " [42. 42. 42.]]\n"
          ]
        }
      ]
    },
    {
      "cell_type": "markdown",
      "source": [
        "**GPU acceleration**"
      ],
      "metadata": {
        "id": "sIrZ39wNOeTt"
      }
    },
    {
      "cell_type": "markdown",
      "source": [
        "Many TensorFlow operations are accelerated using the GPU for computation. Without any annotations, TensorFlow automatically decided whether to use the GPU or CPU for an operation-copying the tensor between CPU and GPU memory, if necessary. Tensors produced by an operation are typically backed by the memory of the devide on which the operation executed. For example:"
      ],
      "metadata": {
        "id": "9yy5BPYuOnCi"
      }
    },
    {
      "cell_type": "code",
      "source": [
        "x = tf.random.uniform([3, 3])\n",
        "\n",
        "print(\"Is there a GPU available: \"),\n",
        "print(tf.config.list_physical_devices(\"GPU\"))\n",
        "\n",
        "print(\"Is the Tensor on GPU #0: \"),\n",
        "print(x.device.endswith(\"GPU:0\"))"
      ],
      "metadata": {
        "colab": {
          "base_uri": "https://localhost:8080/"
        },
        "id": "7BYoixsUN27-",
        "outputId": "b52f9f5f-905e-4913-f6c9-222f0988ed0b"
      },
      "execution_count": 11,
      "outputs": [
        {
          "output_type": "stream",
          "name": "stdout",
          "text": [
            "Is there a GPU available: \n",
            "[]\n",
            "Is the Tensor on GPU #0: \n",
            "False\n"
          ]
        }
      ]
    },
    {
      "cell_type": "markdown",
      "source": [
        "**Device names**\n",
        "\n",
        "The Tensor.devices property provides a fully qualified string name of the device hosting the contents of the tensor. This name encodes many details such as an identifier of the network address of the host on which this program is executing and the device within that host. This is required for distributed execution of a TensorFlow program. The string ends with with GPU:<N> if the tensor is placed on the N-th GPU on the host.\n",
        "\n",
        "**Explicit device placement**\n",
        "\n",
        "In TensorFlow, placement refers to how individual operations are assigned (place on) a device for execution. As mentioned, when there is no explicit guidance provided, tensorflow automatically decides which device to execute an operation and copies tensors to that device, if needed.\n",
        "\n",
        "However, TensorFlow operations can be explicitly placed on specific devices using the tf.device context manager. For example:"
      ],
      "metadata": {
        "id": "GoRbsxrMRbz7"
      }
    },
    {
      "cell_type": "code",
      "source": [
        "import time\n",
        "\n",
        "def time_matmul(x):\n",
        "  start = time.time()\n",
        "  for loop in range(10):\n",
        "    tf.linalg.matmul(x, x)\n",
        "\n",
        "  result = time.time() - start\n",
        "\n",
        "  print(\"10 loops: {:0.2f}ms\".format(1000*result))\n",
        "\n",
        "# Force execution on CPU\n",
        "print(\"On CPU:\")\n",
        "with tf.device(\"CPU:0\"):\n",
        "  x = tf.random.uniform([1000, 1000])\n",
        "  assert x.device.endswith(\"CPU:0\")\n",
        "  time_matmul(x)\n",
        "\n",
        "# Force execution on GPU #0 if available\n",
        "if tf.config.list_physical_devices(\"GPU\"):\n",
        "  print(\"On GPU:\")"
      ],
      "metadata": {
        "id": "6l-Lr8zEPolk",
        "colab": {
          "base_uri": "https://localhost:8080/"
        },
        "outputId": "d3dc5bfe-5fcc-4423-c215-8d7c2a48a7ed"
      },
      "execution_count": 12,
      "outputs": [
        {
          "output_type": "stream",
          "name": "stdout",
          "text": [
            "On CPU:\n",
            "10 loops: 393.56ms\n"
          ]
        }
      ]
    },
    {
      "cell_type": "markdown",
      "source": [
        "**Datasets**\n",
        "\n",
        "This section uses the tf.data.Dataset API to build a pipeline for feeding data to your model. tf.data.Dataset is used to build performant, complex input pipelines form simple, re-usable pieces that will feed your model's training or evaluation to loops.\n",
        "\n",
        "**Create a source Dataset**\n",
        "\n",
        "Create a source dataset using one of the factory functions like tf.data.Dataset.from_tensors, tf.data.Dataset.from_tensor_slices, or using objects that read files like tf.data.TextLineDataset or tf.data.TFRecordDataset."
      ],
      "metadata": {
        "id": "0_YW9r0_9kFz"
      }
    },
    {
      "cell_type": "code",
      "source": [
        "ds_tensors = tf.data.Dataset.from_tensor_slices([1, 2, 3, 4, 5, 6])\n",
        "\n",
        "# Create a CSV file\n",
        "import tempfile\n",
        "_, filename = tempfile.mkstemp()\n",
        "\n",
        "with open(filename, 'w') as f:\n",
        "  f.write(\"\"\"Line1\n",
        "  Line 2\n",
        "  Line 3\n",
        "  \"\"\")\n",
        "\n",
        "ds_file = tf.data.TextLineDataset(filename)"
      ],
      "metadata": {
        "id": "3HTLStX29jOI"
      },
      "execution_count": 13,
      "outputs": []
    },
    {
      "cell_type": "code",
      "source": [],
      "metadata": {
        "id": "luf331iO_YY5"
      },
      "execution_count": null,
      "outputs": []
    }
  ]
}